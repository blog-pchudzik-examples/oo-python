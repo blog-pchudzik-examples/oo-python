{
 "cells": [
  {
   "cell_type": "code",
   "execution_count": 71,
   "metadata": {},
   "outputs": [],
   "source": [
    "from datetime import datetime\n",
    "class Person:\n",
    "    def __new__(cls, *args, **kwargs):\n",
    "        print('__new__ called')\n",
    "        instance = super().__new__(cls)\n",
    "        setattr(instance, 'created_at', datetime.now())\n",
    "        return instance\n",
    "    \n",
    "    def __init__(self, name):\n",
    "        print('__init__ called')\n",
    "        self.name = name\n",
    "    \n",
    "    def __del__(self):\n",
    "        print('__del__ called')\n",
    "        raise Exception(\"It's ignored\")"
   ]
  },
  {
   "cell_type": "code",
   "execution_count": 72,
   "metadata": {},
   "outputs": [
    {
     "name": "stdout",
     "output_type": "stream",
     "text": [
      "__new__ called\n",
      "__init__ called\n"
     ]
    }
   ],
   "source": [
    "p = Person(\"Adam\")"
   ]
  },
  {
   "cell_type": "code",
   "execution_count": 73,
   "metadata": {},
   "outputs": [
    {
     "data": {
      "text/plain": [
       "('Adam', datetime.datetime(2020, 3, 17, 19, 35, 29, 375602))"
      ]
     },
     "execution_count": 73,
     "metadata": {},
     "output_type": "execute_result"
    }
   ],
   "source": [
    "p.name, p.created_at"
   ]
  },
  {
   "cell_type": "code",
   "execution_count": 74,
   "metadata": {},
   "outputs": [
    {
     "name": "stdout",
     "output_type": "stream",
     "text": [
      "__del__ called\n"
     ]
    },
    {
     "name": "stderr",
     "output_type": "stream",
     "text": [
      "Exception ignored in: <function Person.__del__ at 0x10989b9e0>\n",
      "Traceback (most recent call last):\n",
      "  File \"<ipython-input-71-f4c91d243632>\", line 15, in __del__\n",
      "Exception: It's ignored\n"
     ]
    }
   ],
   "source": [
    "del p"
   ]
  },
  {
   "cell_type": "code",
   "execution_count": null,
   "metadata": {},
   "outputs": [],
   "source": []
  }
 ],
 "metadata": {
  "kernelspec": {
   "display_name": "Python 3",
   "language": "python",
   "name": "python3"
  },
  "language_info": {
   "codemirror_mode": {
    "name": "ipython",
    "version": 3
   },
   "file_extension": ".py",
   "mimetype": "text/x-python",
   "name": "python",
   "nbconvert_exporter": "python",
   "pygments_lexer": "ipython3",
   "version": "3.7.5"
  }
 },
 "nbformat": 4,
 "nbformat_minor": 2
}
